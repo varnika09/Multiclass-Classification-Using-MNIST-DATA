{
 "cells": [
  {
   "cell_type": "markdown",
   "id": "b89652ae",
   "metadata": {},
   "source": [
    "# Imported Required Libraries"
   ]
  },
  {
   "cell_type": "code",
   "execution_count": 1,
   "id": "4fba29fe",
   "metadata": {},
   "outputs": [],
   "source": [
    "from sklearn.datasets import fetch_openml  # importing the fetch_openml method from sklearn library\n",
    "import matplotlib.pyplot as plt            # library to plot a graph\n",
    "from sklearn.model_selection import train_test_split   # library for splitting the data into training and testing\n",
    "from sklearn.svm import SVC                # library to import SVM Classifier\n",
    "from sklearn.multiclass import OneVsRestClassifier   # importing OneVsRestClassifier\n",
    "from sklearn.metrics import accuracy_score     # importing the accuracy_score method to check accuracy of the model"
   ]
  },
  {
   "cell_type": "code",
   "execution_count": 2,
   "id": "76439847",
   "metadata": {},
   "outputs": [],
   "source": [
    "mnist= fetch_openml('mnist_784', as_frame=False)   # importing the mnist dataset as an array not as a dataframe"
   ]
  },
  {
   "cell_type": "markdown",
   "id": "b95e5ae2",
   "metadata": {},
   "source": [
    "# Separating the dataset in X and y with data and target values"
   ]
  },
  {
   "cell_type": "code",
   "execution_count": 3,
   "id": "acbf00ae",
   "metadata": {},
   "outputs": [],
   "source": [
    "X,y = mnist.data, mnist.target    # defining data in X variable and target on y variable"
   ]
  },
  {
   "cell_type": "code",
   "execution_count": 4,
   "id": "788f280d",
   "metadata": {},
   "outputs": [
    {
     "data": {
      "text/plain": [
       "array([[0., 0., 0., ..., 0., 0., 0.],\n",
       "       [0., 0., 0., ..., 0., 0., 0.],\n",
       "       [0., 0., 0., ..., 0., 0., 0.],\n",
       "       ...,\n",
       "       [0., 0., 0., ..., 0., 0., 0.],\n",
       "       [0., 0., 0., ..., 0., 0., 0.],\n",
       "       [0., 0., 0., ..., 0., 0., 0.]])"
      ]
     },
     "execution_count": 4,
     "metadata": {},
     "output_type": "execute_result"
    }
   ],
   "source": [
    "X  # displaying data in X"
   ]
  },
  {
   "cell_type": "code",
   "execution_count": 5,
   "id": "41eb1087",
   "metadata": {},
   "outputs": [
    {
     "data": {
      "text/plain": [
       "(70000, 784)"
      ]
     },
     "execution_count": 5,
     "metadata": {},
     "output_type": "execute_result"
    }
   ],
   "source": [
    "X.shape  # displaying shape of X"
   ]
  },
  {
   "cell_type": "code",
   "execution_count": 6,
   "id": "ae96877e",
   "metadata": {},
   "outputs": [
    {
     "data": {
      "text/plain": [
       "array(['5', '0', '4', ..., '4', '5', '6'], dtype=object)"
      ]
     },
     "execution_count": 6,
     "metadata": {},
     "output_type": "execute_result"
    }
   ],
   "source": [
    "y   # data in y"
   ]
  },
  {
   "cell_type": "code",
   "execution_count": 7,
   "id": "0ba03490",
   "metadata": {},
   "outputs": [
    {
     "data": {
      "text/plain": [
       "(70000,)"
      ]
     },
     "execution_count": 7,
     "metadata": {},
     "output_type": "execute_result"
    }
   ],
   "source": [
    "y.shape  # shape of y  "
   ]
  },
  {
   "cell_type": "markdown",
   "id": "a4a812c8",
   "metadata": {},
   "source": [
    "# Plotting the image of any specific digit"
   ]
  },
  {
   "cell_type": "code",
   "execution_count": 8,
   "id": "635314ed",
   "metadata": {},
   "outputs": [
    {
     "data": {
      "image/png": "[encoded data removed]",
      "text/plain": [
       "<Figure size 432x288 with 1 Axes>"
      ]
     },
     "metadata": {
      "needs_background": "light"
     },
     "output_type": "display_data"
    }
   ],
   "source": [
    "def plot_digit(image_data):\n",
    "    image= image_data.reshape(28,28)\n",
    "    plt.imshow(image, cmap=\"binary\")    # cmap = binary because its a gray scale image\n",
    "    plt.axis(\"off\")\n",
    "\n",
    "digit= X[1]\n",
    "plot_digit(digit)\n",
    "plt.show()"
   ]
  },
  {
   "cell_type": "code",
   "execution_count": 9,
   "id": "a250320c",
   "metadata": {},
   "outputs": [
    {
     "data": {
      "text/plain": [
       "'0'"
      ]
     },
     "execution_count": 9,
     "metadata": {},
     "output_type": "execute_result"
    }
   ],
   "source": [
    "y[1]"
   ]
  },
  {
   "cell_type": "code",
   "execution_count": 32,
   "id": "baddba7a",
   "metadata": {},
   "outputs": [
    {
     "data": {
      "image/png": "[encoded data removed]",
      "text/plain": [
       "<Figure size 432x288 with 1 Axes>"
      ]
     },
     "metadata": {
      "needs_background": "light"
     },
     "output_type": "display_data"
    }
   ],
   "source": [
    "digit= X[4]\n",
    "plot_digit(digit)\n",
    "plt.show()"
   ]
  },
  {
   "cell_type": "code",
   "execution_count": 31,
   "id": "09520a3b",
   "metadata": {},
   "outputs": [
    {
     "data": {
      "text/plain": [
       "'9'"
      ]
     },
     "execution_count": 31,
     "metadata": {},
     "output_type": "execute_result"
    }
   ],
   "source": [
    "y[4]"
   ]
  },
  {
   "cell_type": "code",
   "execution_count": 33,
   "id": "38298e50",
   "metadata": {},
   "outputs": [
    {
     "data": {
      "image/png": "[encoded data removed]",
      "text/plain": [
       "<Figure size 432x288 with 1 Axes>"
      ]
     },
     "metadata": {
      "needs_background": "light"
     },
     "output_type": "display_data"
    }
   ],
   "source": [
    "digit= X[8]\n",
    "plot_digit(digit)\n",
    "plt.show()"
   ]
  },
  {
   "cell_type": "code",
   "execution_count": 34,
   "id": "3e6541ed",
   "metadata": {},
   "outputs": [
    {
     "data": {
      "text/plain": [
       "'1'"
      ]
     },
     "execution_count": 34,
     "metadata": {},
     "output_type": "execute_result"
    }
   ],
   "source": [
    "y[8]"
   ]
  },
  {
   "cell_type": "code",
   "execution_count": 35,
   "id": "51a2653d",
   "metadata": {},
   "outputs": [
    {
     "data": {
      "image/png": "[encoded data removed]",
      "text/plain": [
       "<Figure size 432x288 with 1 Axes>"
      ]
     },
     "metadata": {
      "needs_background": "light"
     },
     "output_type": "display_data"
    }
   ],
   "source": [
    "digit= X[11]\n",
    "plot_digit(digit)\n",
    "plt.show()"
   ]
  },
  {
   "cell_type": "code",
   "execution_count": 36,
   "id": "5f7fe439",
   "metadata": {},
   "outputs": [
    {
     "data": {
      "text/plain": [
       "'5'"
      ]
     },
     "execution_count": 36,
     "metadata": {},
     "output_type": "execute_result"
    }
   ],
   "source": [
    "y[11]"
   ]
  },
  {
   "cell_type": "code",
   "execution_count": 37,
   "id": "6e69b275",
   "metadata": {},
   "outputs": [
    {
     "data": {
      "image/png": "[encoded data removed]",
      "text/plain": [
       "<Figure size 432x288 with 1 Axes>"
      ]
     },
     "metadata": {
      "needs_background": "light"
     },
     "output_type": "display_data"
    }
   ],
   "source": [
    "digit= X[15]\n",
    "plot_digit(digit)\n",
    "plt.show()"
   ]
  },
  {
   "cell_type": "code",
   "execution_count": 38,
   "id": "373f0099",
   "metadata": {},
   "outputs": [
    {
     "data": {
      "text/plain": [
       "'7'"
      ]
     },
     "execution_count": 38,
     "metadata": {},
     "output_type": "execute_result"
    }
   ],
   "source": [
    "y[15]"
   ]
  },
  {
   "cell_type": "markdown",
   "id": "97ac4c0a",
   "metadata": {},
   "source": [
    "# Splitting the data into training and testing"
   ]
  },
  {
   "cell_type": "markdown",
   "id": "d2338581",
   "metadata": {},
   "source": [
    "## Data is in the ratio of 7 : 3 i.e, 70% training data and 30% testing data"
   ]
  },
  {
   "cell_type": "code",
   "execution_count": 25,
   "id": "2bca7ed9",
   "metadata": {},
   "outputs": [],
   "source": [
    "X_train, X_test, y_train, y_test = train_test_split(X, y, test_size = 0.30, random_state=42)"
   ]
  },
  {
   "cell_type": "markdown",
   "id": "6e48f6c8",
   "metadata": {},
   "source": [
    "## Creating the object for defining the SVM Classifier Model"
   ]
  },
  {
   "cell_type": "code",
   "execution_count": 26,
   "id": "9c4272a2",
   "metadata": {},
   "outputs": [],
   "source": [
    "svm_clf= SVC(random_state=42)   # object defining svm model"
   ]
  },
  {
   "cell_type": "markdown",
   "id": "ca64a713",
   "metadata": {},
   "source": [
    "## Created object for OneVsRestClassifier Approach on SVM Model"
   ]
  },
  {
   "cell_type": "code",
   "execution_count": 27,
   "id": "74a01f71",
   "metadata": {},
   "outputs": [
    {
     "data": {
      "text/plain": [
       "OneVsRestClassifier(estimator=SVC(random_state=42))"
      ]
     },
     "execution_count": 27,
     "metadata": {},
     "output_type": "execute_result"
    }
   ],
   "source": [
    "ovr_clf= OneVsRestClassifier(SVC(random_state=42))\n",
    "\n",
    "ovr_clf.fit(X_train, y_train)   # fitted the onevsrest classifier approach"
   ]
  },
  {
   "cell_type": "code",
   "execution_count": 28,
   "id": "c8e11326",
   "metadata": {},
   "outputs": [],
   "source": [
    "y_pred = ovr_clf.predict(X_test)  # getting the predictions over testing data using onevsrest classifier approach"
   ]
  },
  {
   "cell_type": "code",
   "execution_count": 29,
   "id": "6a6a6be2",
   "metadata": {},
   "outputs": [
    {
     "data": {
      "text/plain": [
       "10"
      ]
     },
     "execution_count": 29,
     "metadata": {},
     "output_type": "execute_result"
    }
   ],
   "source": [
    "len(ovr_clf.estimators_)    # onevsrest classifier length of estimators for each value in the test data"
   ]
  },
  {
   "cell_type": "markdown",
   "id": "ad0b0c5c",
   "metadata": {},
   "source": [
    "# Accuracy of the model using OneVsRest Classifier Approach"
   ]
  },
  {
   "cell_type": "code",
   "execution_count": 30,
   "id": "bb279d53",
   "metadata": {},
   "outputs": [
    {
     "data": {
      "text/plain": [
       "0.9773333333333334"
      ]
     },
     "execution_count": 30,
     "metadata": {},
     "output_type": "execute_result"
    }
   ],
   "source": [
    "accuracy_score(y_test, y_pred)"
   ]
  },
  {
   "cell_type": "markdown",
   "id": "46a5e3a6",
   "metadata": {},
   "source": [
    "# We are getting the accuracy of 97%, which is a good accuracy"
   ]
  }
 ],
 "metadata": {
  "kernelspec": {
   "display_name": "Python 3 (ipykernel)",
   "language": "python",
   "name": "python3"
  },
  "language_info": {
   "codemirror_mode": {
    "name": "ipython",
    "version": 3
   },
   "file_extension": ".py",
   "mimetype": "text/x-python",
   "name": "python",
   "nbconvert_exporter": "python",
   "pygments_lexer": "ipython3",
   "version": "3.7.10"
  }
 },
 "nbformat": 4,
 "nbformat_minor": 5
}
